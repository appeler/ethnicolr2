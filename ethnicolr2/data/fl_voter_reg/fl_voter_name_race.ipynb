{
 "cells": [
  {
   "cell_type": "markdown",
   "metadata": {},
   "source": [
    "### Preprocess Race from FL Voter Registration Data"
   ]
  },
  {
   "cell_type": "code",
   "execution_count": 1,
   "metadata": {},
   "outputs": [],
   "source": [
    "import pandas as pd\n",
    "import numpy as np\n",
    "from glob import glob"
   ]
  },
  {
   "cell_type": "code",
   "execution_count": 2,
   "metadata": {},
   "outputs": [
    {
     "name": "stdout",
     "output_type": "stream",
     "text": [
      "20170207_VoterDetail/ALA_20170207.txt\n"
     ]
    },
    {
     "data": {
      "text/html": [
       "<div>\n",
       "<style scoped>\n",
       "    .dataframe tbody tr th:only-of-type {\n",
       "        vertical-align: middle;\n",
       "    }\n",
       "\n",
       "    .dataframe tbody tr th {\n",
       "        vertical-align: top;\n",
       "    }\n",
       "\n",
       "    .dataframe thead th {\n",
       "        text-align: right;\n",
       "    }\n",
       "</style>\n",
       "<table border=\"1\" class=\"dataframe\">\n",
       "  <thead>\n",
       "    <tr style=\"text-align: right;\">\n",
       "      <th></th>\n",
       "      <th>2</th>\n",
       "      <th>4</th>\n",
       "      <th>20</th>\n",
       "    </tr>\n",
       "  </thead>\n",
       "  <tbody>\n",
       "    <tr>\n",
       "      <th>0</th>\n",
       "      <td>Walker</td>\n",
       "      <td>Elizabeth</td>\n",
       "      <td>5</td>\n",
       "    </tr>\n",
       "    <tr>\n",
       "      <th>1</th>\n",
       "      <td>Palmer</td>\n",
       "      <td>Alton</td>\n",
       "      <td>5</td>\n",
       "    </tr>\n",
       "    <tr>\n",
       "      <th>2</th>\n",
       "      <td>Mc Cleod</td>\n",
       "      <td>Alicia</td>\n",
       "      <td>3</td>\n",
       "    </tr>\n",
       "    <tr>\n",
       "      <th>3</th>\n",
       "      <td>Scarborough</td>\n",
       "      <td>Dale</td>\n",
       "      <td>5</td>\n",
       "    </tr>\n",
       "    <tr>\n",
       "      <th>4</th>\n",
       "      <td>Walker</td>\n",
       "      <td>Daniel</td>\n",
       "      <td>5</td>\n",
       "    </tr>\n",
       "    <tr>\n",
       "      <th>5</th>\n",
       "      <td>Collier</td>\n",
       "      <td>Seth</td>\n",
       "      <td>3</td>\n",
       "    </tr>\n",
       "    <tr>\n",
       "      <th>6</th>\n",
       "      <td>Martin</td>\n",
       "      <td>Robert</td>\n",
       "      <td>5</td>\n",
       "    </tr>\n",
       "    <tr>\n",
       "      <th>7</th>\n",
       "      <td>Turner</td>\n",
       "      <td>Sharon</td>\n",
       "      <td>3</td>\n",
       "    </tr>\n",
       "    <tr>\n",
       "      <th>8</th>\n",
       "      <td>Wood</td>\n",
       "      <td>Lilianna</td>\n",
       "      <td>4</td>\n",
       "    </tr>\n",
       "    <tr>\n",
       "      <th>9</th>\n",
       "      <td>Planck</td>\n",
       "      <td>Barbara</td>\n",
       "      <td>5</td>\n",
       "    </tr>\n",
       "  </tbody>\n",
       "</table>\n",
       "</div>"
      ],
      "text/plain": [
       "            2          4   20\n",
       "0       Walker  Elizabeth   5\n",
       "1       Palmer      Alton   5\n",
       "2     Mc Cleod     Alicia   3\n",
       "3  Scarborough       Dale   5\n",
       "4       Walker     Daniel   5\n",
       "5      Collier       Seth   3\n",
       "6       Martin     Robert   5\n",
       "7       Turner     Sharon   3\n",
       "8         Wood   Lilianna   4\n",
       "9       Planck    Barbara   5"
      ]
     },
     "execution_count": 2,
     "metadata": {},
     "output_type": "execute_result"
    }
   ],
   "source": [
    "for fn in sorted(glob('/opt/data/fl_voter/20170207_VoterDetail/*.txt')):\n",
    "    print(fn)\n",
    "    df = pd.read_csv(fn, delimiter='\\t', header=None, usecols=[2, 4, 20], nrows=10)\n",
    "    break\n",
    "df"
   ]
  },
  {
   "cell_type": "code",
   "execution_count": null,
   "metadata": {},
   "outputs": [
    {
     "name": "stdout",
     "output_type": "stream",
     "text": [
      "20170207_VoterDetail/ALA_20170207.txt\n",
      "20170207_VoterDetail/BAK_20170207.txt\n",
      "20170207_VoterDetail/BAY_20170207.txt\n",
      "20170207_VoterDetail/BRA_20170207.txt\n",
      "20170207_VoterDetail/BRE_20170207.txt\n",
      "20170207_VoterDetail/BRO_20170207.txt\n",
      "20170207_VoterDetail/CAL_20170207.txt\n",
      "20170207_VoterDetail/CHA_20170207.txt\n",
      "20170207_VoterDetail/CIT_20170207.txt\n",
      "20170207_VoterDetail/CLA_20170207.txt\n",
      "20170207_VoterDetail/CLL_20170207.txt\n",
      "20170207_VoterDetail/CLM_20170207.txt\n",
      "20170207_VoterDetail/DAD_20170207.txt\n",
      "20170207_VoterDetail/DES_20170207.txt\n",
      "20170207_VoterDetail/DIX_20170207.txt\n",
      "20170207_VoterDetail/DUV_20170207.txt\n",
      "20170207_VoterDetail/ESC_20170207.txt\n",
      "20170207_VoterDetail/FLA_20170207.txt\n",
      "20170207_VoterDetail/FRA_20170207.txt\n",
      "20170207_VoterDetail/GAD_20170207.txt\n",
      "20170207_VoterDetail/GIL_20170207.txt\n",
      "20170207_VoterDetail/GLA_20170207.txt\n",
      "20170207_VoterDetail/GUL_20170207.txt\n",
      "20170207_VoterDetail/HAM_20170207.txt\n",
      "20170207_VoterDetail/HAR_20170207.txt\n",
      "20170207_VoterDetail/HEN_20170207.txt\n",
      "20170207_VoterDetail/HER_20170207.txt\n",
      "20170207_VoterDetail/HIG_20170207.txt\n",
      "20170207_VoterDetail/HIL_20170207.txt\n",
      "20170207_VoterDetail/HOL_20170207.txt\n",
      "20170207_VoterDetail/IND_20170207.txt\n",
      "20170207_VoterDetail/JAC_20170207.txt\n",
      "20170207_VoterDetail/JEF_20170207.txt\n",
      "20170207_VoterDetail/LAF_20170207.txt\n",
      "20170207_VoterDetail/LAK_20170207.txt\n",
      "20170207_VoterDetail/LEE_20170207.txt\n",
      "20170207_VoterDetail/LEO_20170207.txt\n",
      "20170207_VoterDetail/LEV_20170207.txt\n",
      "20170207_VoterDetail/LIB_20170207.txt\n",
      "20170207_VoterDetail/MAD_20170207.txt\n"
     ]
    }
   ],
   "source": [
    "adf = None\n",
    "for fn in sorted(glob('20170207_VoterDetail/*.txt')):\n",
    "    print(fn)\n",
    "    df = pd.read_csv(fn, delimiter='\\t', header=None, usecols=[2, 4, 20])\n",
    "    if adf is None:\n",
    "        adf = df\n",
    "    else:\n",
    "        adf = pd.concat([adf, df])\n",
    "adf"
   ]
  },
  {
   "cell_type": "code",
   "execution_count": null,
   "metadata": {},
   "outputs": [],
   "source": [
    "adf.columns = ['name_last', 'name_first', 'race']\n",
    "adf"
   ]
  },
  {
   "attachments": {
    "image.png": {
     "image/png": "[encoded data removed]"
    }
   },
   "cell_type": "markdown",
   "metadata": {},
   "source": [
    "![image.png](attachment:image.png)"
   ]
  },
  {
   "cell_type": "code",
   "execution_count": null,
   "metadata": {},
   "outputs": [],
   "source": [
    "adf.race.value_counts()"
   ]
  },
  {
   "cell_type": "code",
   "execution_count": null,
   "metadata": {},
   "outputs": [],
   "source": [
    "adf['race'] = adf.race.map({1: 'native_indian', 2: 'asian', 3: 'nh_black', 4: 'hispanic', 5: 'nh_white', 6: 'other', 7: 'multi_racial', 9: 'unknown'})"
   ]
  },
  {
   "cell_type": "code",
   "execution_count": null,
   "metadata": {},
   "outputs": [],
   "source": [
    "adf"
   ]
  },
  {
   "cell_type": "code",
   "execution_count": null,
   "metadata": {},
   "outputs": [],
   "source": [
    "adf.race.value_counts()"
   ]
  },
  {
   "cell_type": "code",
   "execution_count": null,
   "metadata": {},
   "outputs": [],
   "source": [
    "adf.to_csv('/opt/data/fl_voter/fl_reg_name_race.csv.gz', compression='gzip', index=False)"
   ]
  }
 ],
 "metadata": {
  "kernelspec": {
   "display_name": "Python 3",
   "language": "python",
   "name": "python3"
  },
  "language_info": {
   "codemirror_mode": {
    "name": "ipython",
    "version": 3
   },
   "file_extension": ".py",
   "mimetype": "text/x-python",
   "name": "python",
   "nbconvert_exporter": "python",
   "pygments_lexer": "ipython3",
   "version": "3.9.5"
  }
 },
 "nbformat": 4,
 "nbformat_minor": 4
}
